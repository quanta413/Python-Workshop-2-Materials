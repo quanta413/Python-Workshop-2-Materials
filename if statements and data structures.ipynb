{
 "cells": [
  {
   "cell_type": "markdown",
   "metadata": {},
   "source": [
    "# Python Workshop 2\n",
    "\n",
    "## Table of Contents\n",
    "* [Opening Spyder](Opening Spyder.ipynb)\n",
    "* [The if statement](#The-if-statement)\n",
    "* [Common Python data structures](#Common-Python-data-structures)\n",
    " * [Tuples](#Tuples)\n",
    " * [Lists](#Lists)\n",
    " * [Dictionaries](#Dictionaries)\n",
    "* [Good coding style](#Good-coding-style)\n",
    " \n",
    "<font size=\"1\">Notebook by Nick Sherer and Elliot Urriola with additional exercises from Matt Zhang</font>\n",
    "\n",
    "\n",
    "## Introduction\n",
    "\n",
    "In today's workshop, we'll be covering coding in a text editor, the <code>if</code> statement, and the most common ways to combine different pieces of data in Python: tuples, lists, and dictionaries.\n",
    "\n",
    "You will often want to reuse code you write to do an analysis or to collect data. Jupyter notebooks are good for exploration and presentation, but it can be hard to reuse code from a jupyter notebook or to write larger pieces of code in it. So we're going to execute code and do the exercises today in the text editor Spyder, and only use jupyter notebooks to present information.\n",
    "\n",
    "One useful construct we didn't talk about last workshop is the <code>if</code> statement. The if statement lets you instruct Python to execute one piece of code if a condition is true and a different piece of code if the condition is false.\n",
    "\n",
    "When programming, you'll often find you have a collection of related items like a collection of numbers describing the position of a particle over time or a collection of words making up a sentence. Because this occurs a lot, Python comes with data structures for very general but useful ways you might want to aggregate data. The most common ones are Tuples, Lists, and Dictionaries. We'll cover the basics of all three.\n",
    "\n",
    "The first thing you should do is click the link [Opening Spyder](Opening Spyder.ipynb) so you can get set up."
   ]
  },
  {
   "cell_type": "markdown",
   "metadata": {},
   "source": [
    "## The if statement\n",
    "<font size=\"1\">[Return to Table of Contents](#Table-of-Contents)</font>\n",
    "\n",
    "The <code>if</code> statement is an important part of the Python language for controlling your program's execution. It looks like this\n",
    "\n",
    "<code>if condition:\n",
    "        dosomething()</code>\n",
    "        \n",
    "<code>condition</code> is a python expression (piece of Python code that returns a value) which can be treated as a boolean i.e. <code>True</code> or <code>False</code>.\n",
    "\n",
    "For example,"
   ]
  },
  {
   "cell_type": "code",
   "execution_count": 1,
   "metadata": {},
   "outputs": [
    {
     "name": "stdout",
     "output_type": "stream",
     "text": [
      "x is greater than y.\n"
     ]
    }
   ],
   "source": [
    "x = 5\n",
    "y = 3\n",
    "if x > y:\n",
    "    print('x is greater than y.')"
   ]
  },
  {
   "cell_type": "markdown",
   "metadata": {},
   "source": [
    "Sometimes, you'll want to check multiple exclusive conditions. To do this Python has the <code>elif</code> statement. <code>elif</code> is short for \"else if\". If an <code>if</code> statement turns out not to be true, then Python will check the <code>elif</code> statment after it. If that elif statement isn't true, then it will check the next <code>elif</code> statement and so on. Once a statement evaluates to True, no further statements will be checked."
   ]
  },
  {
   "cell_type": "code",
   "execution_count": 2,
   "metadata": {},
   "outputs": [
    {
     "name": "stdout",
     "output_type": "stream",
     "text": [
      "a is equal to 3.\n"
     ]
    }
   ],
   "source": [
    "a = 3\n",
    "if a < 2:\n",
    "    print('a is less than 2.')\n",
    "elif a == 2: # checks if a is equal to 2\n",
    "    print('a is equal to 2.')\n",
    "elif a == 3:\n",
    "    print('a is equal to 3.')\n",
    "elif a > 2:\n",
    "    print('a is greater than 2.') # this won't be executed because the elif above it is true."
   ]
  },
  {
   "cell_type": "markdown",
   "metadata": {},
   "source": [
    "Often, you'll want something to occur if none of the conditions of your <code>if</code>'s or <code>elif</code>'s are true. In that case, you can use the <code>else</code> statement."
   ]
  },
  {
   "cell_type": "code",
   "execution_count": 3,
   "metadata": {},
   "outputs": [
    {
     "name": "stdout",
     "output_type": "stream",
     "text": [
      "b is positive.\n"
     ]
    }
   ],
   "source": [
    "b = 9\n",
    "if b < 0:\n",
    "    print('b is negative.')\n",
    "elif b == 0:\n",
    "    print('b equals 0.')\n",
    "else:\n",
    "    print('b is positive.')"
   ]
  },
  {
   "cell_type": "markdown",
   "metadata": {},
   "source": [
    "If you define a variable inside an if statement or inside nested if statements, it will be available outside the level of those statements. If you choose to do this, I recommend that every possible evaluation of your if statements assigns some value to that variable. Variables that may or may not exist depending on how your if statements are evaluated can lead to complications later."
   ]
  },
  {
   "cell_type": "code",
   "execution_count": 4,
   "metadata": {},
   "outputs": [
    {
     "name": "stdout",
     "output_type": "stream",
     "text": [
      "way less\n"
     ]
    }
   ],
   "source": [
    "c = -11\n",
    "if c < 0:\n",
    "    if c < -10:\n",
    "        d = 'way less'\n",
    "    else:\n",
    "        d = 'little bit less'\n",
    "elif c == 0:\n",
    "    d = 'equals'\n",
    "else:\n",
    "    d = 'greater'\n",
    "print(d)"
   ]
  },
  {
   "cell_type": "markdown",
   "metadata": {},
   "source": [
    "You can find the exercise for if statements in if_statement_exercise.py"
   ]
  },
  {
   "cell_type": "markdown",
   "metadata": {},
   "source": [
    "## Common Python data structures\n",
    "<font size=\"1\">[Return to Table of Contents](#Table-of-Contents)</font>\n",
    "\n",
    "Now we're going to switch gears and talk about common Python data structures. These data structures are ways to group together related pieces of data. You can think of them as containers for data. They can even contain each other, although it's simplest when you can avoid nesting them too deeply. Sometimes you can do something with more than one type of data structure, but the different data structures have different strengths and weaknesses. We'll start with the simplest data structure and move on to the most complicated.\n",
    "\n",
    "The three data structures we are going to talk about are Tuples, Lists, and Dictionaries.\n",
    "\n",
    "### Tuples\n",
    "<font size=\"1\">[Return to Table of Contents](#Table-of-Contents)</font>\n",
    "\n",
    "Tuples are one of Python's many container data types. Tuples hold pieces of data, called *elements*. Elements can be in a variety of forms. Common choices for data are: strings, integers, floats, and bools.  \n",
    "\n",
    "You may have encountered tuples in Workshop 1 if you used string formatting to assign a variable to a portion of a printed string.\n",
    "\n",
    "For example, look at the code in the following cell"
   ]
  },
  {
   "cell_type": "code",
   "execution_count": 5,
   "metadata": {},
   "outputs": [
    {
     "name": "stdout",
     "output_type": "stream",
     "text": [
      "Hello my name is Elliot I am 22 years old!\n"
     ]
    }
   ],
   "source": [
    "my_name = 'Elliot'\n",
    "my_age = 22\n",
    "\n",
    "print('Hello my name is %s I am %i years old!' %(my_name, my_age)) # %s means to substitue a variable in as a string,\n",
    "                                                                   # %i means as an integer"
   ]
  },
  {
   "cell_type": "markdown",
   "metadata": {},
   "source": [
    "In the above example, we are using a tuple containing the variables my_name and my_age as the elements to print specific data in my string. \n",
    "\n",
    "Tuples are made by wrapping left and right parenthesis around comma separated values or by calling the tuple() function on another container.\n",
    "\n",
    "Take a look at some examples below"
   ]
  },
  {
   "cell_type": "code",
   "execution_count": 6,
   "metadata": {},
   "outputs": [
    {
     "name": "stdout",
     "output_type": "stream",
     "text": [
      "(1, 2, 3, 4)\n",
      "<class 'tuple'>\n"
     ]
    }
   ],
   "source": [
    "#creating a tuple by wrapping elements in one set of parenthesis\n",
    "simple_tuple = (1,2,3,4)\n",
    "\n",
    "#print statements will display my tuples on the screen\n",
    "print(simple_tuple)\n",
    "print(type(simple_tuple))"
   ]
  },
  {
   "cell_type": "markdown",
   "metadata": {},
   "source": [
    "In this example, we created a tuple called simple_tuple by placing some integers between one set of parenthesis. Notice that each integer is separated by a comma."
   ]
  },
  {
   "cell_type": "code",
   "execution_count": 7,
   "metadata": {},
   "outputs": [
    {
     "name": "stdout",
     "output_type": "stream",
     "text": [
      "['Alyss', 'Scrappy', 'Monty', 'Cake']\n",
      "('Alyss', 'Scrappy', 'Monty', 'Cake')\n"
     ]
    }
   ],
   "source": [
    "#a list of my pets names. Don't worry about what a list is at the moment. We'll talk about that next.\n",
    "pets = ['Alyss', 'Scrappy', 'Monty', 'Cake']\n",
    "\n",
    "#creating a tuple called pet_tuple using tuple()\n",
    "pet_tuple = tuple(pets)\n",
    "\n",
    "#print statements will display my tuples on the screen\n",
    "print(pets)\n",
    "print(pet_tuple)"
   ]
  },
  {
   "cell_type": "markdown",
   "metadata": {},
   "source": [
    "In this case, we call the tuple() function that is built into Python to create a tuple called pet_tuple. Using the tuple() function is similar to how we might have changed integers into floats by using float() in Workshop 1.\n",
    "\n",
    "Notice that my data stayed the same, except now it is encapsulated by () instead of []."
   ]
  },
  {
   "cell_type": "code",
   "execution_count": 8,
   "metadata": {},
   "outputs": [
    {
     "name": "stdout",
     "output_type": "stream",
     "text": [
      "('howdy', 67, 3.14159, False)\n"
     ]
    }
   ],
   "source": [
    "#creating a tuple called mixed_tuple\n",
    "mixed_tuple = ('howdy', 67, 3.14159, False)\n",
    "\n",
    "#print statements will display mixed_tuple on the screen\n",
    "print(mixed_tuple)"
   ]
  },
  {
   "cell_type": "markdown",
   "metadata": {},
   "source": [
    "In this example, we created a tuple called mixed_tuple by surrounding a set of comma separated elements with parenthesis. However, the elements of the tuple each have different data types.\n",
    "\n",
    "Tuples can handle elements with different data types.\n",
    "\n",
    "Tuples are like numpy arrays in that you can retrieve elements of a tuple by indexing with square brackets. You can also take slices of tuples. Taking a slice of a tuple will return another tuple that starts at the first index and ends just before the second index of the slice."
   ]
  },
  {
   "cell_type": "code",
   "execution_count": 9,
   "metadata": {},
   "outputs": [
    {
     "name": "stdout",
     "output_type": "stream",
     "text": [
      "The first element of mixed_tuple is howdy\n",
      "The second element of mixed_tuple is 67\n",
      "The last element of mixed_tuple is False\n",
      "The middle two elements of mixed_tuple are (67, 3.14159)\n"
     ]
    }
   ],
   "source": [
    "print('The first element of mixed_tuple is', mixed_tuple[0]) # Python starts indexing at 0. 0 is the first element\n",
    "print('The second element of mixed_tuple is', mixed_tuple[1]) # That means 1 is the second element\n",
    "print('The last element of mixed_tuple is', mixed_tuple[-1]) # -1 is the last element, -2 the second to last element and so on\n",
    "print('The middle two elements of mixed_tuple are', mixed_tuple[1:3])"
   ]
  },
  {
   "cell_type": "markdown",
   "metadata": {},
   "source": [
    "Once you've created a tuple, you can't change any element inside it without overwriting the entire tuple. This property is called immutability. So other than using them as inputs into other pieces of code or indexing into tuples, you don't do much with them after creation. For this reason, tuples are useful for packing together a few related pieces of data of any types that you want to stay unchanged.\n",
    "\n",
    "Since you can't manipulate tuples after making them, you'll be practicing indexing into nested tuples. Complete the exercise \"tuple_indexing.py\" in Spyder."
   ]
  },
  {
   "cell_type": "markdown",
   "metadata": {},
   "source": [
    "### Lists\n",
    "<font size=\"1\">[Return to Table of Contents](#Table-of-Contents)</font>\n",
    "\n",
    "Lists are another important container for holding data in Python. Lists work a lot like tuples in that they are an ordered collection of data and you can pull an item from a list by indexing. However, they differ from tuples in that you can change the elements of a list, add new elements to a list, or remove elements from a list.\n",
    "\n",
    "You make a list by enclosing the data to be put into the list in straight brackets, separating the different pieces of data by commas."
   ]
  },
  {
   "cell_type": "code",
   "execution_count": 10,
   "metadata": {},
   "outputs": [
    {
     "name": "stdout",
     "output_type": "stream",
     "text": [
      "my_list is ['apples', 'oranges', 'bananas', 'starfruits', 'avocados']\n",
      "The element at index 3 in my_list is starfruits\n"
     ]
    }
   ],
   "source": [
    "my_list = ['apples', 'oranges', 'bananas', 'starfruits', 'avocados']\n",
    "print('my_list is', my_list)\n",
    "print('The element at index 3 in my_list is', my_list[3])"
   ]
  },
  {
   "cell_type": "markdown",
   "metadata": {},
   "source": [
    "You can access single elements of a list the same way you access elements of a tuple. You can also access multiple elements of a list using the same slicing syntax used for tuples or for arrays that you used in workshop 1."
   ]
  },
  {
   "cell_type": "code",
   "execution_count": 11,
   "metadata": {},
   "outputs": [
    {
     "name": "stdout",
     "output_type": "stream",
     "text": [
      "The first element of my_list is apples\n",
      "The last element of my_list is avocados\n",
      "The middle elements of my_list are ['oranges', 'bananas', 'starfruits']\n"
     ]
    }
   ],
   "source": [
    "print('The first element of my_list is', my_list[0])\n",
    "print('The last element of my_list is', my_list[-1])\n",
    "print('The middle elements of my_list are', my_list[1:4]) # the number before the colon is where you start\n",
    "                                                          # you stop before the number after the colon"
   ]
  },
  {
   "cell_type": "markdown",
   "metadata": {},
   "source": [
    "You can change the value of an element in a list like so"
   ]
  },
  {
   "cell_type": "code",
   "execution_count": 12,
   "metadata": {},
   "outputs": [
    {
     "name": "stdout",
     "output_type": "stream",
     "text": [
      "my_list is ['plums', 'oranges', 'bananas', 'starfruits', 'avocados']\n"
     ]
    }
   ],
   "source": [
    "my_list[0]='plums'\n",
    "print('my_list is', my_list)"
   ]
  },
  {
   "cell_type": "markdown",
   "metadata": {},
   "source": [
    "You can add new elements to the end of a list like so"
   ]
  },
  {
   "cell_type": "code",
   "execution_count": 13,
   "metadata": {},
   "outputs": [
    {
     "name": "stdout",
     "output_type": "stream",
     "text": [
      "my_list is ['plums', 'oranges', 'bananas', 'starfruits', 'avocados', 'lychees']\n"
     ]
    }
   ],
   "source": [
    "my_list.append('lychees')\n",
    "print('my_list is', my_list)"
   ]
  },
  {
   "cell_type": "markdown",
   "metadata": {},
   "source": [
    "You can remove an element from the end of a list too"
   ]
  },
  {
   "cell_type": "code",
   "execution_count": 14,
   "metadata": {},
   "outputs": [
    {
     "name": "stdout",
     "output_type": "stream",
     "text": [
      "my_list is ['plums', 'oranges', 'bananas', 'starfruits', 'avocados']\n"
     ]
    }
   ],
   "source": [
    "my_list.pop()\n",
    "print('my_list is', my_list)"
   ]
  },
  {
   "cell_type": "markdown",
   "metadata": {},
   "source": [
    "There are other ways to modify lists too, but they don't come up as often. An important thing to remember when using lists is that if you pass a list into a function and modify it, the list is modified outside the function too. This can be useful, but programs that take advantage of it a lot can get pretty hairy."
   ]
  },
  {
   "cell_type": "code",
   "execution_count": 15,
   "metadata": {},
   "outputs": [
    {
     "name": "stdout",
     "output_type": "stream",
     "text": [
      "my_list is ['plums', 'oranges', 'bananas', 'starfruits', 'avocados', 'apple', 'apple', 'apple']\n",
      "my_list is ['plums', 'oranges', 'bananas', 'starfruits', 'avocados']\n"
     ]
    }
   ],
   "source": [
    "def add_fruits(my_list):\n",
    "    for i in range(3):\n",
    "        my_list.append('apple')\n",
    "\n",
    "def remove_fruits(my_list):\n",
    "    for i in range(3):\n",
    "        my_list.pop()\n",
    "\n",
    "add_fruits(my_list)\n",
    "print('my_list is', my_list)\n",
    "remove_fruits(my_list)\n",
    "print('my_list is', my_list)"
   ]
  },
  {
   "cell_type": "markdown",
   "metadata": {},
   "source": [
    "You can also use lists with <code>for</code> loops."
   ]
  },
  {
   "cell_type": "code",
   "execution_count": 16,
   "metadata": {},
   "outputs": [
    {
     "name": "stdout",
     "output_type": "stream",
     "text": [
      "I really like plums\n",
      "I really like oranges\n",
      "I really like bananas\n",
      "I really like starfruits\n",
      "I really like avocados\n"
     ]
    }
   ],
   "source": [
    "for fruit in my_list:\n",
    "    print('I really like', fruit)"
   ]
  },
  {
   "cell_type": "markdown",
   "metadata": {},
   "source": [
    "The exercises associated with lists are in the files fibonacci_list_exercise.py and eulers_method_exercise.py"
   ]
  },
  {
   "cell_type": "markdown",
   "metadata": {},
   "source": [
    "### Dictionaries\n",
    "<font size=\"1\">[Return to Table of Contents](#Table-of-Contents)</font>\n",
    "\n",
    "We will now introduce another, quite useful data type in Python. Namely, we will be exploring *dictionaries*.\n",
    "\n",
    "Dictionaries are similar to lists in that they are containers for holding data. Lists are probably the python datatype you'll see the most. They're very simple to work with and very general. However they can be very awkward for some purposes.\n",
    "\n",
    "For example what if you wanted a data structure with the masses of various planets? You could make a list of their masses in order of average orbital distance starting with Mercury, then going to Venus, then Earth, etc. but then anyone reading your code would have to know the order of the planets to understand it.\n",
    "\n",
    "And what if you had ordered the planets by mass instead of distance? Or what if whatever you were working with didn't have any convenient ordering? Well, as long as you can name your items, dictionaries may be a better choice than a list.\n",
    "\n",
    "Dictionaries are made by wrapping curly brackets around what are called key-value pairs. Like so."
   ]
  },
  {
   "cell_type": "code",
   "execution_count": 17,
   "metadata": {},
   "outputs": [
    {
     "name": "stdout",
     "output_type": "stream",
     "text": [
      "The planets of our solar system and their masses in multiples of the earth's mass are {'Venus': 0.815, 'Earth': 10.0, 'Mars': 0.11, 'Jupiter': 317.8, 'Saturn': 95.2, 'Uranus': 14.6, 'Neptune': 17.2, 'Pluto': 0.002}\n"
     ]
    }
   ],
   "source": [
    "planet_masses = {'Venus': 0.815, 'Earth': 10.0, 'Mars': 0.11, 'Jupiter': 317.8, \n",
    "                 'Saturn': 95.2, 'Uranus': 14.6, 'Neptune': 17.2, 'Pluto': .002}\n",
    "# The masses are in units of earth masses\n",
    "print(\"The planets of our solar system and their masses in multiples of the earth's mass are\", planet_masses)"
   ]
  },
  {
   "cell_type": "markdown",
   "metadata": {},
   "source": [
    "We saw that with lists, we were able to grab specific pieces of data inside the list by using the indices of the desired element (piece of data) to slice into the list. We were able to do this because all the elements of the list are part of some specific *order*.\n",
    "\n",
    "For example, consider the following code"
   ]
  },
  {
   "cell_type": "code",
   "execution_count": 18,
   "metadata": {},
   "outputs": [
    {
     "name": "stdout",
     "output_type": "stream",
     "text": [
      "The first element of my_list is plums\n"
     ]
    }
   ],
   "source": [
    "print('The first element of my_list is', my_list[0])"
   ]
  },
  {
   "cell_type": "markdown",
   "metadata": {},
   "source": [
    "Dictionaries, on the other hand, do not have a specified order. So, we cannot slice into them like we did with lists. Take a look at the following code. Running it has produced an error."
   ]
  },
  {
   "cell_type": "code",
   "execution_count": 19,
   "metadata": {},
   "outputs": [
    {
     "ename": "KeyError",
     "evalue": "0",
     "output_type": "error",
     "traceback": [
      "\u001b[1;31m---------------------------------------------------------------------------\u001b[0m",
      "\u001b[1;31mKeyError\u001b[0m                                  Traceback (most recent call last)",
      "\u001b[1;32m<ipython-input-19-0ad5ae0f9bf7>\u001b[0m in \u001b[0;36m<module>\u001b[1;34m()\u001b[0m\n\u001b[1;32m----> 1\u001b[1;33m \u001b[0mplanet_masses\u001b[0m\u001b[1;33m[\u001b[0m\u001b[1;36m0\u001b[0m\u001b[1;33m]\u001b[0m\u001b[1;33m\u001b[0m\u001b[0m\n\u001b[0m",
      "\u001b[1;31mKeyError\u001b[0m: 0"
     ]
    }
   ],
   "source": [
    "planet_masses[0]"
   ]
  },
  {
   "cell_type": "markdown",
   "metadata": {},
   "source": [
    "To a human, there was clearly an order to the planets we put inside the curly braces. 'Venus' came before 'Earth' and so on. But to Python, there is no order. Instead, we access the data inside our dictionary using what is called the *key*. The syntax is the same as slicing lists, but Python will return what is called the *value*. \n",
    "\n",
    "In a dictionary the key and value are identified as shown below.\n",
    "\n",
    "{..., key : value, ...}\n",
    "\n",
    "We see a key is always the thing on the left of the colon : and the value is always the thing on the right of the colon. Values are accessed using keys as shown below.\n",
    "\n",
    "dictionary[key] = value\n",
    "\n",
    "Let's take a look at our planet_masses dictionary again."
   ]
  },
  {
   "cell_type": "code",
   "execution_count": 20,
   "metadata": {},
   "outputs": [
    {
     "name": "stdout",
     "output_type": "stream",
     "text": [
      "The mass of Jupiter is 317.8 earth masses.\n",
      "The mass of Neptune is 17.2 earth masses.\n"
     ]
    }
   ],
   "source": [
    "print('The mass of Jupiter is', planet_masses['Jupiter'], 'earth masses.')\n",
    "print('The mass of Neptune is', planet_masses['Neptune'], 'earth masses.')"
   ]
  },
  {
   "cell_type": "markdown",
   "metadata": {},
   "source": [
    "Similarly to lists, you can also add, remove, and edit data from dictionaries."
   ]
  },
  {
   "cell_type": "code",
   "execution_count": 21,
   "metadata": {},
   "outputs": [
    {
     "name": "stdout",
     "output_type": "stream",
     "text": [
      "0.0553\n",
      "Earth is 10.0 earth masses.\n",
      "That's not right...\n",
      "Earth is 1.0 earth masses.\n"
     ]
    }
   ],
   "source": [
    "planet_masses['Mercury'] = .0553\n",
    "print('The mass of Mercury is', planet_masses['Mercury'])\n",
    "planet_masses.pop('Pluto') # Pluto is not a planet anymore. Remove it from the dictionary.\n",
    "print(\"Earth is\", planet_masses['Earth'], 'earth masses.')\n",
    "print(\"That's not right...\")\n",
    "planet_masses['Earth']=1.0\n",
    "print(\"Earth is\", planet_masses['Earth'], 'earth masses.')"
   ]
  },
  {
   "cell_type": "markdown",
   "metadata": {},
   "source": [
    "First, notice that we use strings as keys to retrieve or modify elements from dictionaries much like we used number to access elements of a list. Python looks at the keys in your dictionary and reads you the definition associated with it. \n",
    "\n",
    "Think about how you would use a dictionary to find the meaning of a word you didn't know in real life. You would search for the exact spelling of the word and read off its meaning.\n",
    "\n",
    "<img src = \"files/dictionaryImage.jpg\">"
   ]
  },
  {
   "cell_type": "markdown",
   "metadata": {},
   "source": [
    "Like lists, dictionaries can be used with <code>for</code> loops. <code>for</code> loops for dictionaries will loop over the keys of the dictionary."
   ]
  },
  {
   "cell_type": "code",
   "execution_count": 22,
   "metadata": {},
   "outputs": [
    {
     "name": "stdout",
     "output_type": "stream",
     "text": [
      "The mass of Venus is 0.815 earth masses.\n",
      "The mass of Earth is 1.0 earth masses.\n",
      "The mass of Mars is 0.11 earth masses.\n",
      "The mass of Jupiter is 317.8 earth masses.\n",
      "The mass of Saturn is 95.2 earth masses.\n",
      "The mass of Uranus is 14.6 earth masses.\n",
      "The mass of Neptune is 17.2 earth masses.\n",
      "The mass of Mercury is 0.0553 earth masses.\n"
     ]
    }
   ],
   "source": [
    "for planet in planet_masses:\n",
    "    print('The mass of', planet, 'is', planet_masses[planet], 'earth masses.')"
   ]
  },
  {
   "cell_type": "markdown",
   "metadata": {},
   "source": [
    "If you want to loop over the values of a dictionary, that's possible too. <code>my_dictionary.values()</code> will return the values of a dictionary in a list."
   ]
  },
  {
   "cell_type": "code",
   "execution_count": 23,
   "metadata": {},
   "outputs": [
    {
     "name": "stdout",
     "output_type": "stream",
     "text": [
      "0.815\n",
      "1.0\n",
      "0.11\n",
      "317.8\n",
      "95.2\n",
      "14.6\n",
      "17.2\n",
      "0.0553\n"
     ]
    }
   ],
   "source": [
    "for mass in planet_masses.values():\n",
    "    print(mass)"
   ]
  },
  {
   "cell_type": "markdown",
   "metadata": {},
   "source": [
    "And if you want to loop over keys and values, <code>my_dictionary.items()</code> will return a list of key, value pairs which you can unpack into key and value elements of a loop like so"
   ]
  },
  {
   "cell_type": "code",
   "execution_count": 24,
   "metadata": {},
   "outputs": [
    {
     "name": "stdout",
     "output_type": "stream",
     "text": [
      "The mass of Venus is 0.815 earth masses.\n",
      "The mass of Earth is 1.0 earth masses.\n",
      "The mass of Mars is 0.11 earth masses.\n",
      "The mass of Jupiter is 317.8 earth masses.\n",
      "The mass of Saturn is 95.2 earth masses.\n",
      "The mass of Uranus is 14.6 earth masses.\n",
      "The mass of Neptune is 17.2 earth masses.\n",
      "The mass of Mercury is 0.0553 earth masses.\n"
     ]
    }
   ],
   "source": [
    "for planet, mass in planet_masses.items():\n",
    "    print ('The mass of', planet, 'is', mass, 'earth masses.')"
   ]
  },
  {
   "cell_type": "markdown",
   "metadata": {},
   "source": [
    "For your exercise about dictionaries. You'll be completing the code in \"tuningfork.py\". We've written the code to load some data from the \"materials-youngs modulus-densities.csv\" file into a dictionary. You need to use that data to determine when made into a tuning fork, which material would resonate at the highest frequency."
   ]
  },
  {
   "cell_type": "markdown",
   "metadata": {
    "collapsed": true
   },
   "source": [
    "## Good coding style\n",
    "<font size=\"1\">[Return to Table of Contents](#Table-of-Contents)</font>\n",
    "\n",
    "Finally, let's cover/emphasize some basic tips on good coding style.\n",
    "\n",
    "First, let's put it in terms of what you shouldn't do.\n",
    "\n",
    "### How *not* to code\n",
    "* Neglect to think about the problem first.\n",
    "* Don't read error messages.\n",
    "* Reuse variable names in the same scope.\n",
    "* Deeply nest control flow.\n",
    "* Don't write functions.\n",
    "* Choose names for variables poorly.\n",
    "* Group together unrelated data.\n",
    "* Don't comment your code.\n",
    "\n",
    "### How to code\n",
    "* Think about the problem before you start coding.\n",
    "* Read every error message.\n",
    "* Make sure variables have unique names.\n",
    "* Keep nesting down to 2 levels when possible.\n",
    "* Write lots of functions.\n",
    "* Give your variables meaningful and explanatory names.\n",
    "* Group together related data.\n",
    "* Comment your code.\n",
    "\n",
    "I've personally made all the mistakes on the first list and will make them again. But it's important to try to keep up good practices."
   ]
  },
  {
   "cell_type": "code",
   "execution_count": null,
   "metadata": {
    "collapsed": true
   },
   "outputs": [],
   "source": []
  }
 ],
 "metadata": {
  "kernelspec": {
   "display_name": "Python 3",
   "language": "python",
   "name": "python3"
  },
  "language_info": {
   "codemirror_mode": {
    "name": "ipython",
    "version": 3
   },
   "file_extension": ".py",
   "mimetype": "text/x-python",
   "name": "python",
   "nbconvert_exporter": "python",
   "pygments_lexer": "ipython3",
   "version": "3.6.1"
  }
 },
 "nbformat": 4,
 "nbformat_minor": 2
}
